{
  "nbformat": 4,
  "nbformat_minor": 0,
  "metadata": {
    "colab": {
      "provenance": [],
      "toc_visible": true
    },
    "kernelspec": {
      "name": "python3",
      "display_name": "Python 3"
    },
    "language_info": {
      "name": "python"
    }
  },
  "cells": [
    {
      "cell_type": "markdown",
      "source": [
        "<div>\n",
        "<img src=\"data:image/svg+xml;base64,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\" width=\"100\"/>\n",
        "</div>\n",
        "\n",
        "# Finetuning OpenAI LLM using Website Data from Webᵀ Crawl\n",
        "\n",
        "Finetune OpenAI GPT-3.5 using Python and data from Webᵀ Crawl."
      ],
      "metadata": {
        "id": "PN-ZoWQj7v1U"
      }
    },
    {
      "cell_type": "code",
      "source": [
        "!pip install openai jsonlines"
      ],
      "metadata": {
        "id": "RS73CIs2x9ql"
      },
      "execution_count": null,
      "outputs": []
    },
    {
      "cell_type": "code",
      "execution_count": null,
      "metadata": {
        "id": "T1wTNisxxOz7"
      },
      "outputs": [],
      "source": [
        "import os\n",
        "from time import sleep\n",
        "import zipfile\n",
        "\n",
        "import jsonlines\n",
        "import openai\n",
        "\n",
        "openai.api_key = os.getenv('OPENAI_API_KEY') or \"OPENAI_API_KEY\"\n",
        "\n",
        "os.listdir()"
      ]
    },
    {
      "cell_type": "code",
      "source": [
        "download_id = \"48b6bb1b-cf85-4611-9dkc-d9e9ce3eb19f\"\n",
        "with zipfile.ZipFile(f\"{download_id}.zip\", 'r') as zip_ref:\n",
        "    zip_ref.extractall(download_id)"
      ],
      "metadata": {
        "id": "AmakwjQWoFP8"
      },
      "execution_count": null,
      "outputs": []
    },
    {
      "cell_type": "code",
      "source": [
        "os.listdir(download_id)"
      ],
      "metadata": {
        "id": "TfbKMCJ5oaSc"
      },
      "execution_count": null,
      "outputs": []
    },
    {
      "cell_type": "code",
      "source": [
        "jsonl_files = [f for f in os.listdir(download_id) if f.endswith('.jsonl')]\n",
        "train_jsonl_file = os.path.join(download_id, \"train.jsonl\")\n",
        "\n",
        "# System Message, if you have one\n",
        "system_message = {\n",
        "    \"role\": \"system\",\n",
        "    \"content\": \"You are the Pokedex. You only answer questions related to Pokemon.\"\n",
        "}\n",
        "\n",
        "# System Message, if you don't have one\n",
        "# system_message = None\n",
        "\n",
        "# write everything to train.jsonl\n",
        "with jsonlines.open(train_jsonl_file, mode='w') as writer:\n",
        "    for jsonl_file in jsonl_files:\n",
        "        file_path = os.path.join(download_id, jsonl_file)\n",
        "        with jsonlines.open(file_path) as reader:\n",
        "            for line in reader:\n",
        "                if system_message:\n",
        "                    line['messages'].insert(0, system_message)\n",
        "                writer.write(line)"
      ],
      "metadata": {
        "id": "ttCscE7zoeT-"
      },
      "execution_count": null,
      "outputs": []
    },
    {
      "cell_type": "code",
      "source": [
        "open(train_jsonl_file, 'r').read().split('\\n')[:4]"
      ],
      "metadata": {
        "colab": {
          "base_uri": "https://localhost:8080/"
        },
        "id": "A4_6_bRCp7BX",
        "outputId": "9ceb4c2e-52aa-49fc-97f1-95ca3f0a01e9"
      },
      "execution_count": null,
      "outputs": [
        {
          "output_type": "execute_result",
          "data": {
            "text/plain": [
              "['{\"messages\": [{\"role\": \"user\", \"content\": \"What is Scovillain?\"}, {\"role\": \"assistant\", \"content\": \"Scovillain is a Grass/Fire type Pokémon introduced in Generation 9. It is known as the Spicy Pepper Pokémon.\"}]}',\n",
              " '{\"messages\": [{\"role\": \"user\", \"content\": \"What are the abilities of Scovillain?\"}, {\"role\": \"assistant\", \"content\": \"Scovillain has the abilities Chlorophyll, Insomnia, and Moody (hidden ability).\"}]}',\n",
              " '{\"messages\": [{\"role\": \"user\", \"content\": \"What is the height and weight of Scovillain?\"}, {\"role\": \"assistant\", \"content\": \"Scovillain has a height of 0.9 m (2′11″) and a weight of 15.0 kg (33.1 lbs).\"}]}',\n",
              " '{\"messages\": [{\"role\": \"user\", \"content\": \"What are the base stats of Scovillain?\"}, {\"role\": \"assistant\", \"content\": \"Scovillain has a base HP of 65, Attack of 108, Defense of 65, Special Attack of 108, Special Defense of 65, and Speed of 75. Its total base stats are 486.\"}]}']"
            ]
          },
          "metadata": {},
          "execution_count": 14
        }
      ]
    },
    {
      "cell_type": "code",
      "source": [
        "res = openai.File.create(\n",
        "    file=open(train_jsonl_file, \"r\"),\n",
        "    purpose='fine-tune'\n",
        ")\n",
        "file_id = res[\"id\"]\n",
        "file_id"
      ],
      "metadata": {
        "colab": {
          "base_uri": "https://localhost:8080/",
          "height": 35
        },
        "id": "hQONYJVJqGxv",
        "outputId": "3b30ac4a-cbb8-437f-cd51-1f74c685bf16"
      },
      "execution_count": null,
      "outputs": [
        {
          "output_type": "execute_result",
          "data": {
            "text/plain": [
              "'file-T81NMys3pfjVElwrzSG0M2GG'"
            ],
            "application/vnd.google.colaboratory.intrinsic+json": {
              "type": "string"
            }
          },
          "metadata": {},
          "execution_count": 19
        }
      ]
    },
    {
      "cell_type": "code",
      "source": [
        "res = openai.FineTuningJob.create(\n",
        "    training_file=file_id,\n",
        "    model=\"gpt-3.5-turbo\"\n",
        ")"
      ],
      "metadata": {
        "id": "CP3i4mVZrPBY"
      },
      "execution_count": null,
      "outputs": []
    },
    {
      "cell_type": "code",
      "source": [
        "job_id = res[\"id\"]\n",
        "job_id"
      ],
      "metadata": {
        "id": "CJy0766mq1qL"
      },
      "execution_count": null,
      "outputs": []
    },
    {
      "cell_type": "code",
      "source": [
        "while True:\n",
        "    res = openai.FineTuningJob.retrieve(job_id)\n",
        "    if res[\"finished_at\"] is not None:\n",
        "        break\n",
        "    else:\n",
        "        print(\".\", end=\"\")\n",
        "        sleep(100)"
      ],
      "metadata": {
        "id": "gBEkAjaMrNVg"
      },
      "execution_count": null,
      "outputs": []
    },
    {
      "cell_type": "code",
      "source": [
        "ft_model = res[\"fine_tuned_model\"]\n",
        "ft_model"
      ],
      "metadata": {
        "colab": {
          "base_uri": "https://localhost:8080/",
          "height": 35
        },
        "id": "1BWPCiCrr-Ao",
        "outputId": "54392500-08a3-4d57-e491-54caba96f5b1"
      },
      "execution_count": null,
      "outputs": [
        {
          "output_type": "execute_result",
          "data": {
            "text/plain": [
              "'ft:gpt-3.5-turbo-0613:personal::7vvqx6cC'"
            ],
            "application/vnd.google.colaboratory.intrinsic+json": {
              "type": "string"
            }
          },
          "metadata": {},
          "execution_count": 28
        }
      ]
    },
    {
      "cell_type": "markdown",
      "source": [
        "## Let's Test Our Model"
      ],
      "metadata": {
        "id": "HeyKmxP-7aeu"
      }
    },
    {
      "cell_type": "code",
      "source": [
        "query = \"\"\"\n",
        "What is Scovillain?\n",
        "\"\"\"\n",
        "response = openai.ChatCompletion.create(\n",
        "    model=ft_model,\n",
        "    temperature=0,\n",
        "    messages=[{\"role\": \"user\", \"content\": query}]\n",
        ")\n",
        "response['choices'][0]['message']['content']"
      ],
      "metadata": {
        "colab": {
          "base_uri": "https://localhost:8080/",
          "height": 35
        },
        "id": "GvJNEhqnusPV",
        "outputId": "47cd1265-ebe1-4f48-a7c1-9bd1d75255eb"
      },
      "execution_count": null,
      "outputs": [
        {
          "output_type": "execute_result",
          "data": {
            "text/plain": [
              "'Scovillain is a Grass/Poison type Pokémon introduced in Generation 9. It is known as the Scovillain Pokémon.'"
            ],
            "application/vnd.google.colaboratory.intrinsic+json": {
              "type": "string"
            }
          },
          "metadata": {},
          "execution_count": 41
        }
      ]
    },
    {
      "cell_type": "code",
      "source": [
        "query = \"\"\"\n",
        "What does Scovillian evolve into?\n",
        "\"\"\"\n",
        "response = openai.ChatCompletion.create(\n",
        "    model=ft_model,\n",
        "    temperature=0,\n",
        "    messages=[{\"role\": \"user\", \"content\": query}]\n",
        ")\n",
        "response['choices'][0]['message']['content']"
      ],
      "metadata": {
        "colab": {
          "base_uri": "https://localhost:8080/",
          "height": 35
        },
        "id": "jkMeUPLSv_Ky",
        "outputId": "b15cf4ca-d270-474d-8286-e5a8fcd81ad2"
      },
      "execution_count": null,
      "outputs": [
        {
          "output_type": "execute_result",
          "data": {
            "text/plain": [
              "'Scovillian evolves into Scorchill.'"
            ],
            "application/vnd.google.colaboratory.intrinsic+json": {
              "type": "string"
            }
          },
          "metadata": {},
          "execution_count": 39
        }
      ]
    },
    {
      "cell_type": "markdown",
      "source": [
        "### Now, let's compare it with the original model."
      ],
      "metadata": {
        "id": "RdKfXDt67eAn"
      }
    },
    {
      "cell_type": "code",
      "source": [
        "x = \"\"\"\n",
        "What is Scovillain?\n",
        "\"\"\"\n",
        "response = openai.ChatCompletion.create(\n",
        "    model='gpt-3.5-turbo-0613',\n",
        "    temperature=0,\n",
        "    messages=[{\"role\": \"user\", \"content\": x}]\n",
        ")\n",
        "response['choices'][0]['message']['content']"
      ],
      "metadata": {
        "colab": {
          "base_uri": "https://localhost:8080/",
          "height": 107
        },
        "id": "VgzwfKTdvzCM",
        "outputId": "4e15348c-c8a6-4a7d-c91c-53f2f1234e14"
      },
      "execution_count": null,
      "outputs": [
        {
          "output_type": "execute_result",
          "data": {
            "text/plain": [
              "'Scovillain is a term coined to describe someone who enjoys and seeks out extremely spicy or hot foods. It is a combination of the words \"Scoville,\" which is a measurement of the heat or spiciness of chili peppers, and \"villain,\" which refers to someone who enjoys or takes pleasure in something that may be considered extreme or challenging. A Scovillain is someone who actively seeks out and enjoys the intense heat and spiciness of foods, often pushing their tolerance levels to the limit.'"
            ],
            "application/vnd.google.colaboratory.intrinsic+json": {
              "type": "string"
            }
          },
          "metadata": {},
          "execution_count": 43
        }
      ]
    },
    {
      "cell_type": "code",
      "source": [],
      "metadata": {
        "id": "2Y9AX5doxOp-"
      },
      "execution_count": null,
      "outputs": []
    }
  ]
}