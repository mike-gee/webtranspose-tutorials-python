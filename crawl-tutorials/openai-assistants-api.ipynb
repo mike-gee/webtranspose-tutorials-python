{
 "cells": [
  {
   "cell_type": "markdown",
   "id": "38acc0ff",
   "metadata": {},
   "source": [
    "# Build a Website Chatbot using the OpenAI Assistants API\n",
    "\n",
    "Build a Website Chatbot using the Python SDK for the OpenAI Assistants API using [Web Transpose Crawl](https://webtranspose.com)."
   ]
  },
  {
   "cell_type": "code",
   "execution_count": null,
   "id": "76cac345",
   "metadata": {},
   "outputs": [],
   "source": [
    "!pip install openai webtranspose"
   ]
  },
  {
   "cell_type": "code",
   "execution_count": null,
   "id": "6c52c013",
   "metadata": {},
   "outputs": [],
   "source": [
    "import os\n",
    "import webtranspose as webt\n",
    "os.environ['WEBTRANSPOSE_API_KEY'] = 'YOUR_API_KEY'"
   ]
  },
  {
   "cell_type": "markdown",
   "id": "b1916efa",
   "metadata": {},
   "source": [
    "## Get Website Data\n",
    "\n",
    "We're going to use [Andrew Carnegie's Autobiography](https://www.gutenberg.org/files/17976/17976-h/17976-h.htm)."
   ]
  },
  {
   "cell_type": "code",
   "execution_count": null,
   "id": "e1570fac",
   "metadata": {},
   "outputs": [],
   "source": [
    "url = 'https://www.gutenberg.org/files/17976/17976-h/17976-h.htm'"
   ]
  },
  {
   "cell_type": "code",
   "execution_count": null,
   "id": "4aadb0af",
   "metadata": {
    "scrolled": true
   },
   "outputs": [],
   "source": [
    "crawl = webt.Crawl(\n",
    "    url=url,\n",
    "    max_pages=1,\n",
    "    verbose=True,\n",
    ")\n",
    "await crawl.crawl()"
   ]
  },
  {
   "cell_type": "markdown",
   "id": "3aa4509e",
   "metadata": {},
   "source": [
    "## Upload Data to OpenAI"
   ]
  },
  {
   "cell_type": "code",
   "execution_count": null,
   "id": "9255789a",
   "metadata": {},
   "outputs": [],
   "source": [
    "import io\n",
    "\n",
    "page = crawl.get_page(crawl.base_url)\n",
    "file = client.files.create(\n",
    "    file=io.BytesIO(page['text'].encode('utf-8')),\n",
    "    purpose=\"assistants\",\n",
    ")"
   ]
  },
  {
   "cell_type": "markdown",
   "id": "a4782358",
   "metadata": {},
   "source": [
    "## Create the OpenAI Assistant"
   ]
  },
  {
   "cell_type": "code",
   "execution_count": null,
   "id": "64a9eed9",
   "metadata": {},
   "outputs": [],
   "source": [
    "from openai import OpenAI\n",
    "\n",
    "client = OpenAI()\n",
    "\n",
    "assistant = client.beta.assistants.create(\n",
    "    name=\"Talk to Andrew Carnegie's Biography\",\n",
    "    instructions=\"You are a helpful assistant that takes the user's query, searches through its uploaded files to get more context and answers and then only using information from the context.\",\n",
    "    model=\"gpt-4-1106-preview\",\n",
    "    tools=[\n",
    "        {\"type\": \"retrieval\"},\n",
    "    ],\n",
    "    file_ids=[\n",
    "        file.id,\n",
    "    ],\n",
    ")\n"
   ]
  },
  {
   "cell_type": "markdown",
   "id": "72de8474",
   "metadata": {},
   "source": [
    "## Chat with our OpenAI Assistant"
   ]
  },
  {
   "cell_type": "code",
   "execution_count": null,
   "id": "be54ce2f",
   "metadata": {},
   "outputs": [],
   "source": [
    "import time\n",
    "\n",
    "def submit_message(assistant_id, thread, query):\n",
    "    message = client.beta.threads.messages.create(\n",
    "        thread_id=thread.id,\n",
    "        role=\"user\",\n",
    "        content=query,\n",
    "    )\n",
    "    return client.beta.threads.runs.create(\n",
    "        thread_id=thread.id,\n",
    "        assistant_id=assistant_id,\n",
    "    )\n",
    "\n",
    "def wait_on_run(run, thread):\n",
    "    while run.status == \"queued\" or run.status == \"in_progress\":\n",
    "        run = client.beta.threads.runs.retrieve(\n",
    "            thread_id=thread.id,\n",
    "            run_id=run.id,\n",
    "        )\n",
    "        time.sleep(0.5)\n",
    "    return run"
   ]
  },
  {
   "cell_type": "code",
   "execution_count": null,
   "id": "d78d4391",
   "metadata": {},
   "outputs": [],
   "source": [
    "query = \"Tell me your thoughts on Pittsburgh\"\n",
    "thread = client.beta.threads.create()\n",
    "run = submit_message(\n",
    "    assistant.id,\n",
    "    thread,\n",
    "    query,\n",
    ")\n",
    "run = wait_on_run(run, thread)"
   ]
  },
  {
   "cell_type": "code",
   "execution_count": null,
   "id": "29648e89",
   "metadata": {},
   "outputs": [],
   "source": [
    "messages = client.beta.threads.messages.list(thread_id=thread.id)"
   ]
  },
  {
   "cell_type": "code",
   "execution_count": 93,
   "id": "cfd8fcc0",
   "metadata": {},
   "outputs": [
    {
     "name": "stdout",
     "output_type": "stream",
     "text": [
      "user\n",
      "Tell me your thoughts on Pittsburgh\n",
      "----\n",
      "assistant\n",
      "My thoughts on Pittsburgh, based on the context provided in the document, reflect on its rich industrial history, particularly in the steel industry, as well as its strategic geographical importance. The city played a pivotal role during the industrialization of America, especially with the development of the steel-rail mills. This was largely due to the efforts and innovations of industrialists like Andrew Carnegie, who played a significant role in introducing hard-headed iron rails, the Bessemer process, and eventually the creation and success of steel rails in the United States.\n",
      "\n",
      "The site for the steel-rail mills, in a historic area related to Braddock's defeat, suggests that Pittsburgh was not only an industrial hub but also a place of historical significance. The relics of past battles found during the mills' construction remind us of the layers of time that contribute to the essence of a place.\n",
      "\n",
      "Moreover, the city's location at the intersection of the Pennsylvania and Fort Wayne railways, near the Ohio River, highlights Pittsburgh's strategic importance for transportation and commerce. Indeed, the choice of location seems to have been made with careful consideration of logistical advantages.\n",
      "\n",
      "The text also speaks of trials, such as the financial panic of 1873, which deeply affected Pittsburgh businesses. Yet, the resilience shown by the companies and banks demonstrates a strong community that could navigate uncertainties together.\n",
      "\n",
      "Through this snapshot of Pittsburgh's history, we can gather that it is a city of innovation, industry, and tenacity—a place where new ideas were forged and significant industrial progress made, setting a precedent for the rest of the country.\n",
      "----\n"
     ]
    }
   ],
   "source": [
    "for msg in messages.data[::-1]:\n",
    "    print(msg.role)\n",
    "    print(msg.content[0].text.value)\n",
    "    print('----')"
   ]
  },
  {
   "cell_type": "markdown",
   "id": "0295dfda",
   "metadata": {},
   "source": [
    "## Verify it retrieved data on the query\n",
    "\n",
    "Depending on our system prompt, the model won't get retrieve our uploaded data. We can check this happened using the code below."
   ]
  },
  {
   "cell_type": "code",
   "execution_count": null,
   "id": "056366fc",
   "metadata": {},
   "outputs": [],
   "source": [
    "import json\n",
    "def show_json(obj):\n",
    "    display(json.loads(obj.model_dump_json()))"
   ]
  },
  {
   "cell_type": "code",
   "execution_count": null,
   "id": "a004063d",
   "metadata": {},
   "outputs": [],
   "source": [
    "run_steps = client.beta.threads.runs.steps.list(\n",
    "    thread_id=thread.id, run_id=run.id, order=\"asc\"\n",
    ")"
   ]
  },
  {
   "cell_type": "code",
   "execution_count": 74,
   "id": "92cc1084",
   "metadata": {},
   "outputs": [
    {
     "data": {
      "text/plain": [
       "{'tool_calls': [{'id': 'call_PSrrJAGUDKWbpMEXdwyV9H8A',\n",
       "   'retrieval': {},\n",
       "   'type': 'retrieval'}],\n",
       " 'type': 'tool_calls'}"
      ]
     },
     "metadata": {},
     "output_type": "display_data"
    },
    {
     "name": "stdout",
     "output_type": "stream",
     "text": [
      "null\n"
     ]
    },
    {
     "data": {
      "text/plain": [
       "{'message_creation': {'message_id': 'msg_CZDmVn8WRY72O7IoVDNyKojo'},\n",
       " 'type': 'message_creation'}"
      ]
     },
     "metadata": {},
     "output_type": "display_data"
    },
    {
     "name": "stdout",
     "output_type": "stream",
     "text": [
      "null\n"
     ]
    }
   ],
   "source": [
    "for step in run_steps.data:\n",
    "    step_details = step.step_details\n",
    "    print(json.dumps(show_json(step_details), indent=4))"
   ]
  },
  {
   "cell_type": "markdown",
   "id": "ef5cfed5",
   "metadata": {},
   "source": [
    "✅ As you can see, it called `retrieval`."
   ]
  },
  {
   "cell_type": "markdown",
   "id": "d798673b",
   "metadata": {},
   "source": [
    "## Your Turn"
   ]
  },
  {
   "cell_type": "markdown",
   "id": "62881173",
   "metadata": {},
   "source": [
    "Get started with [Web Transpose](https://webtranspose.com) and start building projects using website data."
   ]
  },
  {
   "cell_type": "code",
   "execution_count": null,
   "id": "c0ff27b5",
   "metadata": {},
   "outputs": [],
   "source": []
  }
 ],
 "metadata": {
  "kernelspec": {
   "display_name": "base",
   "language": "python",
   "name": "base"
  },
  "language_info": {
   "codemirror_mode": {
    "name": "ipython",
    "version": 3
   },
   "file_extension": ".py",
   "mimetype": "text/x-python",
   "name": "python",
   "nbconvert_exporter": "python",
   "pygments_lexer": "ipython3",
   "version": "3.9.5"
  }
 },
 "nbformat": 4,
 "nbformat_minor": 5
}
